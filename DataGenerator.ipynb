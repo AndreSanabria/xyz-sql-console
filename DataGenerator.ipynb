{
 "cells": [
  {
   "cell_type": "code",
   "execution_count": null,
   "metadata": {},
   "outputs": [
    {
     "name": "stdout",
     "output_type": "stream",
     "text": [
      "Requirement already satisfied: faker in c:\\users\\andre\\anaconda3\\lib\\site-packages (36.1.1)\n",
      "Requirement already satisfied: tzdata in c:\\users\\andre\\anaconda3\\lib\\site-packages (from faker) (2023.3)\n",
      "Requirement already satisfied: pymysql in c:\\users\\andre\\anaconda3\\lib\\site-packages (1.1.1)\n"
     ]
    }
   ],
   "source": [
    "!pip install faker"
   ]
  },
  {
   "cell_type": "code",
   "execution_count": 6,
   "metadata": {},
   "outputs": [
    {
     "name": "stdout",
     "output_type": "stream",
     "text": [
      "Requirement already satisfied: pymysql in c:\\users\\andre\\anaconda3\\lib\\site-packages (1.1.1)\n"
     ]
    }
   ],
   "source": [
    "!pip install pymysql\n"
   ]
  },
  {
   "cell_type": "code",
   "execution_count": 6,
   "metadata": {},
   "outputs": [],
   "source": [
    "import pymysql\n",
    "import random\n",
    "from faker import Faker\n",
    "from datetime import datetime, timedelta\n",
    "fake = Faker()"
   ]
  },
  {
   "cell_type": "code",
   "execution_count": 7,
   "metadata": {},
   "outputs": [],
   "source": [
    "# Replace host/user/password/db as needed\n",
    "conn = pymysql.connect(\n",
    "    host='localhost',\n",
    "    user='xyz_user',\n",
    "    password='xyz_password',\n",
    "    database='xyz',  # Using lowercase based on your output\n",
    "    autocommit=True,  # Ensure immediate commits\n",
    "    charset='utf8mb4',\n",
    "    cursorclass=pymysql.cursors.DictCursor\n",
    ")\n",
    "cursor = conn.cursor()"
   ]
  },
  {
   "cell_type": "code",
   "execution_count": 8,
   "metadata": {},
   "outputs": [],
   "source": [
    "# =============================================\n",
    "# POPULATES TWO TABLES:\n",
    "# 1. Person (main table for all individuals)\n",
    "#    - Stores personal information (name, age, contact details, etc.)\n",
    "# 2. PhoneNumber (related contact information)\n",
    "#    - Stores 1-3 phone numbers per person\n",
    "# =============================================\n",
    "\n",
    "num_people = 50  # Total number of people to generate\n",
    "\n",
    "for person_id in range(1, num_people + 1):\n",
    "    # Generate fake personal data\n",
    "    first = fake.first_name()\n",
    "    last = fake.last_name()\n",
    "    age = random.randint(18, 64)  # Age between 18-64\n",
    "    gender = random.choice(['M', 'F'])\n",
    "    email = fake.email()\n",
    "    address1 = fake.street_address()\n",
    "    address2 = fake.secondary_address()\n",
    "    city = fake.city()\n",
    "    state = fake.state_abbr()  # Gets US state abbreviation\n",
    "    zip_code = fake.zipcode()\n",
    "    \n",
    "    # Insert into Person table\n",
    "    cursor.execute(\"\"\"\n",
    "        INSERT INTO Person (PersonID, FirstName, LastName, Age, Gender, Email, \n",
    "                          AddressLine1, AddressLine2, City, State, ZipCode)\n",
    "        VALUES (%s, %s, %s, %s, %s, %s, %s, %s, %s, %s, %s)\n",
    "    \"\"\", (person_id, first, last, age, gender, email, \n",
    "          address1, address2, city, state, zip_code))\n",
    "    \n",
    "    # Add 1-3 phone numbers for each person\n",
    "    for _ in range(random.randint(1, 3)):\n",
    "        phone = fake.phone_number()\n",
    "        phone_type = random.choice(['Mobile', 'Home', 'Work'])\n",
    "        \n",
    "        # Insert into PhoneNumber table (with PersonID as foreign key)\n",
    "        cursor.execute(\"\"\"\n",
    "            INSERT IGNORE INTO PhoneNumber (PersonID, PhoneNumber, PhoneType)\n",
    "            VALUES (%s, %s, %s)\n",
    "        \"\"\", (person_id, phone, phone_type))\n",
    "\n",
    "# Note: \n",
    "# - PersonID is used as the primary key for Person table\n",
    "# - PhoneNumber table has a composite primary key (PersonID + PhoneNumber)\n",
    "# - IGNORE clause prevents duplicates if same number is randomly generated twice"
   ]
  },
  {
   "cell_type": "code",
   "execution_count": 9,
   "metadata": {},
   "outputs": [],
   "source": [
    "# =============================================\n",
    "# POPULATES THE Employee TABLE:\n",
    "# - Creates employee records for 20 randomly selected people\n",
    "# - Each employee gets:\n",
    "#   * A rank (Junior, Mid, Senior, Lead)\n",
    "#   * A job title (Engineer, Manager, etc.)\n",
    "# - Supervisor relationships are initialized as NULL (to be set later)\n",
    "# =============================================\n",
    "\n",
    "# Select 20 random people to become employees (from IDs 1-50)\n",
    "employee_ids = random.sample(range(1, 51), 20)\n",
    "\n",
    "# Possible employee attributes\n",
    "titles = ['Engineer', 'Manager', 'Analyst', 'Technician', 'Clerk']\n",
    "ranks = ['Junior', 'Mid', 'Senior', 'Lead']\n",
    "\n",
    "# First pass: Insert all employees with NULL supervisors\n",
    "for emp_id in employee_ids:\n",
    "    # Randomly select employee attributes\n",
    "    erank = random.choice(ranks)\n",
    "    title = random.choice(titles)\n",
    "\n",
    "    # Insert into Employee table\n",
    "    cursor.execute(\"\"\"\n",
    "        INSERT INTO Employee (PersonID, ERank, Title, SupervisorID)\n",
    "        VALUES (%s, %s, %s, NULL)\n",
    "    \"\"\", (emp_id, erank, title))\n",
    "\n",
    "# Note:\n",
    "# - PersonID is both primary key and foreign key to Person table\n",
    "# - SupervisorID is set NULL initially (will be updated in next step)\n",
    "# - This two-phase approach prevents circular references when setting supervisors"
   ]
  },
  {
   "cell_type": "code",
   "execution_count": null,
   "metadata": {},
   "outputs": [],
   "source": [
    "# =============================================\n",
    "# UPDATES THE Employee TABLE:\n",
    "# - Establishes supervisor-subordinate relationships\n",
    "# - Ensures:\n",
    "#   1. No employee supervises themselves\n",
    "#   2. Supervisors must be existing employees\n",
    "#   3. Creates a realistic organizational hierarchy\n",
    "# - Note: One top-level employee will remain with NULL supervisor\n",
    "# =============================================\n",
    "\n",
    "for emp_id in employee_ids:\n",
    "    # Create list of possible supervisors (all employees except self)\n",
    "    possible_supervisors = [id for id in employee_ids if id != emp_id]\n",
    "    \n",
    "    # Only assign a supervisor if candidates exist\n",
    "    if possible_supervisors:\n",
    "        supervisor_id = random.choice(possible_supervisors)\n",
    "        \n",
    "        # Update the employee record with supervisor\n",
    "        cursor.execute(\"\"\"\n",
    "            UPDATE Employee \n",
    "            SET SupervisorID = %s \n",
    "            WHERE PersonID = %s\n",
    "        \"\"\", (supervisor_id, emp_id))"
   ]
  },
  {
   "cell_type": "code",
   "execution_count": null,
   "metadata": {},
   "outputs": [],
   "source": [
    "# =============================================\n",
    "# POPULATES THE Customer TABLE:\n",
    "# - Creates customer records for 15 people who are NOT employees\n",
    "# - Each customer is assigned a preferred sales representative (must be an employee)\n",
    "# - Ensures no overlap between employees and customers\n",
    "# =============================================\n",
    "\n",
    "# Select 15 customers from people who aren't employees (IDs 1-50, excluding employee_ids)\n",
    "customer_ids = random.sample([i for i in range(1, 51) if i not in employee_ids], 15)\n",
    "\n",
    "for cust_id in customer_ids:\n",
    "    # Assign a random employee as preferred sales rep\n",
    "    preferred_rep = random.choice(employee_ids)\n",
    "    \n",
    "    # Insert into Customer table\n",
    "    cursor.execute(\"\"\"\n",
    "        INSERT INTO Customer (PersonID, PreferredSalesRepID)\n",
    "        VALUES (%s, %s)\n",
    "    \"\"\", (cust_id, preferred_rep))\n",
    "\n",
    "# Key Constraints Enforced:\n",
    "# 1. PersonID must exist in Person table (via foreign key)\n",
    "# 2. PreferredSalesRepID must be a valid employee (PersonID in Employee table)\n",
    "# 3. No person can be both employee and customer (business rule enforced via selection)\n"
   ]
  },
  {
   "cell_type": "code",
   "execution_count": null,
   "metadata": {},
   "outputs": [
    {
     "name": "stdout",
     "output_type": "stream",
     "text": [
      "Added 10 potential employees to the talent pool\n"
     ]
    }
   ],
   "source": [
    "# =============================================\n",
    "# POPULATES THE PotentialEmployee TABLE:\n",
    "# - Stores candidates who are neither employees nor customers\n",
    "# - Represents a talent pool for future hiring\n",
    "# - Uses remaining Person IDs not assigned to other roles\n",
    "# =============================================\n",
    "\n",
    "# Identify all used PersonIDs (employees + customers)\n",
    "used_ids = set(employee_ids + customer_ids)\n",
    "\n",
    "# Get remaining IDs (people not assigned any role yet)\n",
    "potential_ids = [i for i in range(1, 51) if i not in used_ids]\n",
    "\n",
    "# Select up to 10 candidates (or fewer if not available)\n",
    "potential_ids = random.sample(potential_ids, min(10, len(potential_ids)))\n",
    "\n",
    "# Insert into PotentialEmployee table\n",
    "for pid in potential_ids:\n",
    "    cursor.execute(\"\"\"\n",
    "        INSERT INTO PotentialEmployee (PersonID)\n",
    "        VALUES (%s)\n",
    "    \"\"\", (pid,))\n",
    "\n",
    "# Database Constraints:\n",
    "# - PersonID is primary key and foreign key to Person table\n",
    "# - Ensures no duplicate entries (primary key constraint)\n",
    "# - Person cannot exist in multiple role tables (enforced by application logic)\n",
    "\n",
    "print(f\"Added {len(potential_ids)} potential employees to the talent pool\")"
   ]
  },
  {
   "cell_type": "code",
   "execution_count": null,
   "metadata": {},
   "outputs": [
    {
     "name": "stdout",
     "output_type": "stream",
     "text": [
      "Created 5 core departments: HR, Engineering, Sales, Marketing, Finance\n"
     ]
    }
   ],
   "source": [
    "# =============================================\n",
    "# POPULATES THE Department TABLE:\n",
    "# - Creates core organizational departments\n",
    "# - Establishes the fundamental structure of the company\n",
    "# - Each department gets a unique ID and name\n",
    "# =============================================\n",
    "\n",
    "departments = ['HR', 'Engineering', 'Sales', 'Marketing', 'Finance']\n",
    "\n",
    "department_ids = list(range(1, len(departments) + 1))\n",
    "\n",
    "for dept_id, name in zip(department_ids, departments):\n",
    "    cursor.execute(\"\"\"\n",
    "        INSERT INTO Department (DepartmentID, DepartmentName)\n",
    "        VALUES (%s, %s)\n",
    "    \"\"\", (dept_id, name))\n",
    "\n",
    "print(f\"Created {len(departments)} core departments: {', '.join(departments)}\")"
   ]
  },
  {
   "cell_type": "code",
   "execution_count": null,
   "metadata": {},
   "outputs": [
    {
     "name": "stdout",
     "output_type": "stream",
     "text": [
      "Created 29 historical department assignments across 20 employees\n"
     ]
    }
   ],
   "source": [
    "# =============================================\n",
    "# POPULATES THE EmployeeDepartmentHistory TABLE:\n",
    "# - Tracks employee department assignments over time\n",
    "# - Creates realistic work histories with:\n",
    "#   * Multiple department transitions\n",
    "#   * Overlapping date ranges\n",
    "#   * Career progression patterns\n",
    "# =============================================\n",
    "\n",
    "from datetime import timedelta\n",
    "\n",
    "history_id = 1  \n",
    "\n",
    "for emp_id in employee_ids:\n",
    "    num_assignments = random.randint(1, 2)\n",
    "    \n",
    "    start_date = fake.date_between(start_date='-5y', end_date='-1y')\n",
    "\n",
    "    for assignment_num in range(num_assignments):\n",
    "        dept_id = random.choice(department_ids)\n",
    "        \n",
    "        end_date = start_date + timedelta(days=random.randint(100, 500))\n",
    "        \n",
    "        cursor.execute(\"\"\"\n",
    "            INSERT INTO EmployeeDepartmentHistory (\n",
    "                HistoryID, \n",
    "                EmployeeID, \n",
    "                DepartmentID, \n",
    "                StartTime, \n",
    "                EndTime\n",
    "            ) VALUES (%s, %s, %s, %s, %s)\n",
    "        \"\"\", (history_id, emp_id, dept_id, start_date, end_date))\n",
    "        \n",
    "        history_id += 1\n",
    "        start_date = end_date + timedelta(days=30)  # 1 month gap between assignments\n",
    "\n",
    "\n",
    "print(f\"Created {history_id-1} historical department assignments across {len(employee_ids)} employees\")"
   ]
  },
  {
   "cell_type": "code",
   "execution_count": null,
   "metadata": {},
   "outputs": [
    {
     "name": "stdout",
     "output_type": "stream",
     "text": [
      "Created 11 job positions across 5 departments\n"
     ]
    }
   ],
   "source": [
    "# =============================================\n",
    "# POPULATES THE JobPosition TABLE:\n",
    "# - Creates current job openings across departments\n",
    "# - Each department gets 1-3 open positions\n",
    "# - Tracks when positions were posted\n",
    "# - Prepares for application process workflow\n",
    "# =============================================\n",
    "\n",
    "cursor.execute(\"SELECT MAX(JobID) FROM JobPosition\")\n",
    "result = cursor.fetchone()\n",
    "job_id = result['MAX(JobID)'] + 1 if result['MAX(JobID)'] else 1\n",
    "\n",
    "job_titles = ['Analyst', 'Engineer', 'Technician', 'Manager', 'Coordinator']\n",
    "\n",
    "for dept_id in department_ids:\n",
    "    for _ in range(random.randint(1, 3)):\n",
    "        description = f\"{random.choice(job_titles)} Position in {departments[dept_id-1]} Dept\"\n",
    "        \n",
    "        posted_date = fake.date_between(start_date='-3y', end_date='today')\n",
    "        \n",
    "        cursor.execute(\"\"\"\n",
    "            INSERT INTO JobPosition (\n",
    "                JobID,\n",
    "                JobDescription, \n",
    "                PostedDate,\n",
    "                DepartmentID\n",
    "            ) VALUES (%s, %s, %s, %s)\n",
    "        \"\"\", (job_id, description, posted_date, dept_id))\n",
    "        \n",
    "        job_id += 1  \n",
    "\n",
    "cursor.execute(\"SELECT JobID FROM JobPosition\")\n",
    "job_ids = [row['JobID'] for row in cursor.fetchall()]\n",
    "\n",
    "print(f\"Created {len(job_ids)} job positions across {len(department_ids)} departments\")\n",
    "\n"
   ]
  },
  {
   "cell_type": "code",
   "execution_count": null,
   "metadata": {},
   "outputs": [
    {
     "name": "stdout",
     "output_type": "stream",
     "text": [
      "Created 31 job applications from 10 potential candidates\n"
     ]
    }
   ],
   "source": [
    "# =============================================\n",
    "# POPULATES THE Application TABLE:\n",
    "# - Creates job applications from potential employees\n",
    "# - Each application links:\n",
    "#   1. A job position\n",
    "#   2. An applicant (potential employee)\n",
    "#   3. Application date\n",
    "# - Simulates realistic application patterns\n",
    "# =============================================\n",
    "\n",
    "cursor.execute(\"SELECT PersonID FROM PotentialEmployee\")\n",
    "applicant_ids = [row['PersonID'] for row in cursor.fetchall()]\n",
    "\n",
    "application_id = 1  \n",
    "for job_id in job_ids:\n",
    "    num_applicants = random.randint(1, min(5, len(applicant_ids)))\n",
    "    \n",
    "    for applicant_id in random.sample(applicant_ids, num_applicants):\n",
    "        cursor.execute(\"SELECT PostedDate FROM JobPosition WHERE JobID = %s\", (job_id,))\n",
    "        post_date = cursor.fetchone()['PostedDate']\n",
    "        apply_date = fake.date_between(start_date=post_date, end_date='today')\n",
    "        \n",
    "        cursor.execute(\"\"\"\n",
    "            INSERT INTO Application (\n",
    "                ApplicationID,\n",
    "                JobID,\n",
    "                ApplicantID,\n",
    "                ApplicationDate\n",
    "            ) VALUES (%s, %s, %s, %s)\n",
    "        \"\"\", (application_id, job_id, applicant_id, apply_date))\n",
    "        \n",
    "        application_id += 1\n",
    "\n",
    "print(f\"Created {application_id-1} job applications from {len(applicant_ids)} potential candidates\")"
   ]
  },
  {
   "cell_type": "code",
   "execution_count": null,
   "metadata": {},
   "outputs": [
    {
     "name": "stdout",
     "output_type": "stream",
     "text": [
      "Scheduled 59 interview rounds with graded panel evaluations\n"
     ]
    }
   ],
   "source": [
    "# =============================================\n",
    "# POPULATES TWO TABLES:\n",
    "# 1. Interview (scheduled interview sessions)\n",
    "# 2. InterviewResult (panel scores ensuring some candidates can be hired)\n",
    "# =============================================\n",
    "\n",
    "from datetime import timedelta, datetime\n",
    "\n",
    "cursor.execute(\"\"\"\n",
    "    SELECT a.ApplicationID, a.JobID, a.ApplicantID, a.ApplicationDate\n",
    "    FROM Application a\n",
    "    JOIN JobPosition j ON a.JobID = j.JobID\n",
    "    WHERE a.ApplicantID IN (SELECT PersonID FROM PotentialEmployee)\n",
    "    ORDER BY RAND()\n",
    "    LIMIT 10  -- 10 candidates to ensure enough interviews per person\n",
    "\"\"\")\n",
    "applications_to_interview = cursor.fetchall()\n",
    "\n",
    "cursor.execute(\"SELECT PersonID FROM Employee\")\n",
    "interviewers_pool = [row['PersonID'] for row in cursor.fetchall()]\n",
    "\n",
    "cursor.execute(\"SELECT MAX(InterviewID) FROM Interview\")\n",
    "result = cursor.fetchone()\n",
    "interview_id = (result['MAX(InterviewID)'] or 0) + 1\n",
    "interview_count = 0\n",
    "\n",
    "for app in applications_to_interview:\n",
    "    applicant_id = app['ApplicantID']\n",
    "    job_id = app['JobID']\n",
    "    app_date = app['ApplicationDate'] or datetime.now().date()\n",
    "    \n",
    "    for _ in range(random.randint(5, 7)):\n",
    "        interview_time = fake.date_time_between(\n",
    "            start_date=app_date + timedelta(days=7),\n",
    "            end_date=app_date + timedelta(days=28)\n",
    "        )\n",
    "        \n",
    "        cursor.execute(\"\"\"\n",
    "            INSERT INTO Interview (\n",
    "                InterviewID,\n",
    "                JobID,\n",
    "                InterviewTime\n",
    "            ) VALUES (%s, %s, %s)\n",
    "        \"\"\", (interview_id, job_id, interview_time))\n",
    "        \n",
    "        selected_interviewers = random.sample(interviewers_pool, random.randint(2, 3))\n",
    "        \n",
    "        for interviewer_id in selected_interviewers:\n",
    "            grade = round(random.uniform(3.6, 5.0), 2)  # Ensures avg > 3.5\n",
    "            cursor.execute(\"\"\"\n",
    "                INSERT INTO InterviewResult (\n",
    "                    InterviewID,\n",
    "                    InterviewerID,\n",
    "                    IntervieweeID,\n",
    "                    Grade\n",
    "                ) VALUES (%s, %s, %s, %s)\n",
    "            \"\"\", (interview_id, interviewer_id, applicant_id, grade))\n",
    "        \n",
    "        interview_id += 1\n",
    "        interview_count += 1\n",
    "\n",
    "conn.commit()\n",
    "print(f\"Scheduled {interview_count} interview rounds with graded panel evaluations\")\n"
   ]
  },
  {
   "cell_type": "code",
   "execution_count": null,
   "metadata": {},
   "outputs": [
    {
     "name": "stdout",
     "output_type": "stream",
     "text": [
      "Processing hiring decisions with corrected query...\n",
      "Found 5 qualified candidates:\n",
      "- Hired PersonID 50 (Avg Grade: 4.21)\n",
      "- Hired PersonID 36 (Avg Grade: 4.18)\n",
      "- Hired PersonID 44 (Avg Grade: 4.10)\n",
      "- Hired PersonID 23 (Avg Grade: 4.00)\n",
      "- Hired PersonID 45 (Avg Grade: 3.96)\n",
      "Hiring decisions committed successfully\n"
     ]
    }
   ],
   "source": [
    "# =============================================\n",
    "#  HIRING DECISIONS QUERY\n",
    "# =============================================\n",
    "\n",
    "try:\n",
    "    print(\"Processing hiring decisions with corrected query...\")\n",
    "    \n",
    "    # Get top candidates - fixed GROUP BY clause\n",
    "    cursor.execute(\"\"\"\n",
    "        SELECT \n",
    "            ir.IntervieweeID,\n",
    "            AVG(ir.Grade) as avg_grade,\n",
    "            COUNT(DISTINCT ir.InterviewID) as interviews_count,\n",
    "            MAX(j.DepartmentID) as DepartmentID  # Using MAX() since all will be same per group\n",
    "        FROM InterviewResult ir\n",
    "        JOIN Interview i ON ir.InterviewID = i.InterviewID\n",
    "        JOIN JobPosition j ON i.JobID = j.JobID\n",
    "        WHERE ir.IntervieweeID IN (SELECT PersonID FROM PotentialEmployee)\n",
    "        GROUP BY ir.IntervieweeID\n",
    "        HAVING avg_grade >= 3.5\n",
    "        ORDER BY avg_grade DESC\n",
    "        LIMIT 5  # Hire top 5 candidates\n",
    "    \"\"\")\n",
    "    top_candidates = cursor.fetchall()\n",
    "    \n",
    "    if not top_candidates:\n",
    "        print(\"No qualified candidates found\")\n",
    "    else:\n",
    "        print(f\"Found {len(top_candidates)} qualified candidates:\")\n",
    "        \n",
    "        # Get next available HistoryID\n",
    "        cursor.execute(\"SELECT MAX(HistoryID) FROM EmployeeDepartmentHistory\")\n",
    "        history_id = (cursor.fetchone()['MAX(HistoryID)'] or 0) + 1\n",
    "        \n",
    "        for candidate in top_candidates:\n",
    "            person_id = candidate['IntervieweeID']\n",
    "            dept_id = candidate['DepartmentID']\n",
    "            \n",
    "            # 1. Convert to Employee\n",
    "            cursor.execute(\"\"\"\n",
    "                INSERT INTO Employee (PersonID, ERank, Title, SupervisorID)\n",
    "                VALUES (%s, 'Junior', %s, NULL)\n",
    "            \"\"\", (person_id, f\"New Hire {datetime.now().year}\"))\n",
    "            \n",
    "            # 2. Create department assignment\n",
    "            cursor.execute(\"\"\"\n",
    "                INSERT INTO EmployeeDepartmentHistory \n",
    "                (HistoryID, EmployeeID, DepartmentID, StartTime, EndTime)\n",
    "                VALUES (%s, %s, %s, %s, NULL)\n",
    "            \"\"\", (history_id, person_id, dept_id, datetime.now().date()))\n",
    "            \n",
    "            # 3. Remove from PotentialEmployee\n",
    "            cursor.execute(\"\"\"\n",
    "                DELETE FROM PotentialEmployee WHERE PersonID = %s\n",
    "            \"\"\", (person_id,))\n",
    "            \n",
    "            print(f\"- Hired PersonID {person_id} (Avg Grade: {candidate['avg_grade']:.2f})\")\n",
    "            history_id += 1\n",
    "        \n",
    "        conn.commit()\n",
    "        print(\"Hiring decisions committed successfully\")\n",
    "\n",
    "except Exception as e:\n",
    "    print(f\"Error in hiring process: {e}\")\n",
    "    conn.rollback()"
   ]
  },
  {
   "cell_type": "code",
   "execution_count": 26,
   "metadata": {},
   "outputs": [
    {
     "name": "stdout",
     "output_type": "stream",
     "text": [
      "Inserted salaries for 25 employees (3 months each)\n"
     ]
    }
   ],
   "source": [
    "# === SALARY ===\n",
    "cursor.execute(\"SELECT PersonID FROM Employee\")\n",
    "employee_ids = [row['PersonID'] for row in cursor.fetchall()]\n",
    "\n",
    "for emp_id in employee_ids:\n",
    "    for tx in range(1, 4):  # Last 3 months\n",
    "        amount = round(random.uniform(3200, 6200), 2)\n",
    "        pay_date = datetime.now().date() - timedelta(days=tx * 30)\n",
    "        cursor.execute(\"\"\"\n",
    "            INSERT INTO Salary (TransactionNumber, EmployeeID, PayDate, Amount)\n",
    "            VALUES (%s, %s, %s, %s)\n",
    "        \"\"\", (tx, emp_id, pay_date, amount))\n",
    "\n",
    "print(f\"Inserted salaries for {len(employee_ids)} employees (3 months each)\")"
   ]
  },
  {
   "cell_type": "code",
   "execution_count": 27,
   "metadata": {},
   "outputs": [
    {
     "name": "stdout",
     "output_type": "stream",
     "text": [
      "Inserted 3 projects\n"
     ]
    }
   ],
   "source": [
    "# === PROJECTS ===\n",
    "cursor.execute(\"SELECT DepartmentID FROM Department\")\n",
    "department_ids = [row['DepartmentID'] for row in cursor.fetchall()]\n",
    "project_id = 1\n",
    "\n",
    "project_titles = [\"Apollo\", \"Neptune\", \"Orion\", \"Phoenix\", \"Quantum\"]\n",
    "\n",
    "for title in random.sample(project_titles, 3):\n",
    "    dept_id = random.choice(department_ids)\n",
    "    start_date = datetime.now().date() - timedelta(days=random.randint(30, 180))\n",
    "    end_date = start_date + timedelta(days=random.randint(60, 180))\n",
    "\n",
    "    cursor.execute(\"\"\"\n",
    "        INSERT INTO Project (ProjectID, ProjectName, DepartmentID, StartDate, EndDate)\n",
    "        VALUES (%s, %s, %s, %s, %s)\n",
    "    \"\"\", (project_id, f\"{title} Project\", dept_id, start_date, end_date))\n",
    "    project_id += 1\n",
    "\n",
    "print(\"Inserted 3 projects\")"
   ]
  },
  {
   "cell_type": "code",
   "execution_count": 28,
   "metadata": {},
   "outputs": [
    {
     "name": "stdout",
     "output_type": "stream",
     "text": [
      "Assigned staff to all projects\n"
     ]
    }
   ],
   "source": [
    "# === PROJECT STAFF ===\n",
    "cursor.execute(\"SELECT ProjectID FROM Project\")\n",
    "project_ids = [row['ProjectID'] for row in cursor.fetchall()]\n",
    "roles = [\"Lead\", \"Developer\", \"Analyst\", \"Tester\"]\n",
    "\n",
    "for pid in project_ids:\n",
    "    assigned = random.sample(employee_ids, k=3)\n",
    "    for emp_id in assigned:\n",
    "        role = random.choice(roles)\n",
    "        cursor.execute(\"\"\"\n",
    "            INSERT INTO ProjectStaff (ProjectID, EmployeeID, Role)\n",
    "            VALUES (%s, %s, %s)\n",
    "        \"\"\", (pid, emp_id, role))\n",
    "\n",
    "print(\"Assigned staff to all projects\")"
   ]
  },
  {
   "cell_type": "code",
   "execution_count": 30,
   "metadata": {},
   "outputs": [
    {
     "name": "stdout",
     "output_type": "stream",
     "text": [
      "Inserted 5 products\n"
     ]
    }
   ],
   "source": [
    "# === POPULATE PRODUCT ===\n",
    "product_id = 1\n",
    "product_types = ['Gadget', 'Tool', 'Widget', 'Accessory']\n",
    "sizes = ['Small', 'Medium', 'Large']\n",
    "styles = ['Modern', 'Classic', 'Sport']\n",
    "\n",
    "for _ in range(5):\n",
    "    cursor.execute(\"\"\"\n",
    "        INSERT INTO Product (ProductID, ProductType, Size, ListPrice, Weight, Style)\n",
    "        VALUES (%s, %s, %s, %s, %s, %s)\n",
    "    \"\"\", (\n",
    "        product_id,\n",
    "        random.choice(product_types),\n",
    "        random.choice(sizes),\n",
    "        round(random.uniform(50, 500), 2),\n",
    "        round(random.uniform(0.5, 10.0), 2),\n",
    "        random.choice(styles)\n",
    "    ))\n",
    "    product_id += 1\n",
    "\n",
    "conn.commit()\n",
    "print(\"Inserted 5 products\")\n"
   ]
  },
  {
   "cell_type": "code",
   "execution_count": 33,
   "metadata": {},
   "outputs": [
    {
     "name": "stdout",
     "output_type": "stream",
     "text": [
      "Inserted 4 marketing sites\n"
     ]
    }
   ],
   "source": [
    "# === POPULATE MARKETING SITES ===\n",
    "site_id = 1\n",
    "site_names = ['North Hub', 'West Wing', 'Downtown Spot', 'East Outlet']\n",
    "site_locations = ['Dallas, TX', 'Austin, TX', 'Houston, TX', 'San Antonio, TX']\n",
    "\n",
    "for name, location in zip(site_names, site_locations):\n",
    "    cursor.execute(\"\"\"\n",
    "        INSERT INTO MarketingSite (SiteID, SiteName, SiteLocation)\n",
    "        VALUES (%s, %s, %s)\n",
    "    \"\"\", (site_id, name, location))\n",
    "    site_id += 1\n",
    "\n",
    "conn.commit()\n",
    "print(\"Inserted 4 marketing sites\")\n"
   ]
  },
  {
   "cell_type": "code",
   "execution_count": 34,
   "metadata": {},
   "outputs": [
    {
     "name": "stdout",
     "output_type": "stream",
     "text": [
      "Inserted 15 sales records\n"
     ]
    }
   ],
   "source": [
    "# === SALE ===\n",
    "cursor.execute(\"SELECT ProductID FROM Product\")\n",
    "product_ids = [row['ProductID'] for row in cursor.fetchall()]\n",
    "cursor.execute(\"SELECT PersonID FROM Customer\")\n",
    "customer_ids = [row['PersonID'] for row in cursor.fetchall()]\n",
    "cursor.execute(\"SELECT SiteID FROM MarketingSite\")\n",
    "site_ids = [row['SiteID'] for row in cursor.fetchall()]\n",
    "\n",
    "sale_id = 1\n",
    "for _ in range(15):\n",
    "    cursor.execute(\"\"\"\n",
    "        INSERT INTO Sale (SaleID, SalesmanID, CustomerID, ProductID, SaleTime, SiteID)\n",
    "        VALUES (%s, %s, %s, %s, %s, %s)\n",
    "    \"\"\", (\n",
    "        sale_id,\n",
    "        random.choice(employee_ids),\n",
    "        random.choice(customer_ids),\n",
    "        random.choice(product_ids),\n",
    "        fake.date_time_between(start_date='-90d', end_date='now'),\n",
    "        random.choice(site_ids)\n",
    "    ))\n",
    "    sale_id += 1\n",
    "\n",
    "print(\"Inserted 15 sales records\")\n",
    "conn.commit()\n"
   ]
  },
  {
   "cell_type": "code",
   "execution_count": 35,
   "metadata": {},
   "outputs": [
    {
     "name": "stdout",
     "output_type": "stream",
     "text": [
      "Inserted PartTypes\n"
     ]
    }
   ],
   "source": [
    "# === PARTTYPE ===\n",
    "part_type_id = 1\n",
    "part_names = ['Screw', 'Bolt', 'Gear', 'Chip', 'Valve', 'Wire', 'Panel']\n",
    "part_weights = [0.1, 0.15, 0.25, 0.05, 0.2, 0.05, 0.3]\n",
    "\n",
    "for name, weight in zip(part_names, part_weights):\n",
    "    cursor.execute(\"\"\"\n",
    "        INSERT INTO PartType (PartTypeID, PartName, Weight)\n",
    "        VALUES (%s, %s, %s)\n",
    "    \"\"\", (part_type_id, name, weight))\n",
    "    part_type_id += 1\n",
    "\n",
    "conn.commit()\n",
    "print(\"Inserted PartTypes\")"
   ]
  },
  {
   "cell_type": "code",
   "execution_count": 36,
   "metadata": {},
   "outputs": [
    {
     "name": "stdout",
     "output_type": "stream",
     "text": [
      "Linked parts to products (ProductPart)\n"
     ]
    }
   ],
   "source": [
    "# === PRODUCTPART ===\n",
    "cursor.execute(\"SELECT ProductID FROM Product\")\n",
    "product_ids = [row['ProductID'] for row in cursor.fetchall()]\n",
    "cursor.execute(\"SELECT PartTypeID FROM PartType\")\n",
    "part_type_ids = [row['PartTypeID'] for row in cursor.fetchall()]\n",
    "\n",
    "for pid in product_ids:\n",
    "    used_parts = random.sample(part_type_ids, k=random.randint(2, 4))\n",
    "    for part_id in used_parts:\n",
    "        quantity = random.randint(1, 5)\n",
    "        cursor.execute(\"\"\"\n",
    "            INSERT INTO ProductPart (ProductID, PartTypeID, QuantityUsed)\n",
    "            VALUES (%s, %s, %s)\n",
    "        \"\"\", (pid, part_id, quantity))\n",
    "\n",
    "conn.commit()\n",
    "print(\"Linked parts to products (ProductPart)\")\n"
   ]
  },
  {
   "cell_type": "code",
   "execution_count": null,
   "metadata": {},
   "outputs": [],
   "source": [
    "# === VENDOR ===\n",
    "vendor_id = 1\n",
    "vendors = ['PartCo', 'TechSupply', 'HardwareHub', 'QuantumParts']\n",
    "addresses = [fake.address() for _ in vendors]\n",
    "\n",
    "for name, addr in zip(vendors, addresses):\n",
    "    cursor.execute(\"\"\"\n",
    "        INSERT INTO Vendor (VendorID, Name, Address, AccountNumber, CreditRating, PurchasingWebServiceURL)\n",
    "        VALUES (%s, %s, %s, %s, %s, %s)\n",
    "    \"\"\", (\n",
    "        vendor_id,\n",
    "        name,\n",
    "        addr,\n",
    "        fake.bban(),\n",
    "        random.randint(1, 5),\n",
    "        f\"https://{name.lower()}.com/api\"\n",
    "    ))\n",
    "    vendor_id += 1\n",
    "\n",
    "conn.commit()\n",
    "print(\"Inserted Vendors\")"
   ]
  },
  {
   "cell_type": "code",
   "execution_count": 39,
   "metadata": {},
   "outputs": [
    {
     "name": "stdout",
     "output_type": "stream",
     "text": [
      "Linked vendors to parts (VendorPart)\n"
     ]
    }
   ],
   "source": [
    "# === VENDORPART ===\n",
    "cursor.execute(\"SELECT VendorID FROM Vendor\")\n",
    "vendor_ids = [row['VendorID'] for row in cursor.fetchall()]\n",
    "\n",
    "for vendor in vendor_ids:\n",
    "    supplied_parts = random.sample(part_type_ids, k=4)\n",
    "    for part_id in supplied_parts:\n",
    "        price = round(random.uniform(5, 25), 2)\n",
    "        cursor.execute(\"\"\"\n",
    "            INSERT INTO VendorPart (VendorID, PartTypeID, Price)\n",
    "            VALUES (%s, %s, %s)\n",
    "        \"\"\", (vendor, part_id, price))\n",
    "\n",
    "conn.commit()\n",
    "print(\"Linked vendors to parts (VendorPart)\")"
   ]
  },
  {
   "cell_type": "code",
   "execution_count": null,
   "metadata": {},
   "outputs": [
    {
     "name": "stdout",
     "output_type": "stream",
     "text": [
      "Assigned employees to all marketing sites (SiteStaffing)\n"
     ]
    }
   ],
   "source": [
    "# === SITE STAFFING ===\n",
    "cursor.execute(\"SELECT SiteID FROM MarketingSite\")\n",
    "site_ids = [row['SiteID'] for row in cursor.fetchall()]\n",
    "\n",
    "for site in site_ids:\n",
    "    assigned = random.sample(employee_ids, k=random.randint(2, 4))\n",
    "    for emp_id in assigned:\n",
    "        cursor.execute(\"\"\"\n",
    "            INSERT INTO SiteStaffing (EmployeeID, SiteID)\n",
    "            VALUES (%s, %s)\n",
    "        \"\"\", (emp_id, site))\n",
    "\n",
    "conn.commit()\n",
    "print(\"Assigned employees to all marketing sites (SiteStaffing)\")\n"
   ]
  },
  {
   "cell_type": "code",
   "execution_count": null,
   "metadata": {},
   "outputs": [
    {
     "data": {
      "text/html": [
       "<div>\n",
       "<style scoped>\n",
       "    .dataframe tbody tr th:only-of-type {\n",
       "        vertical-align: middle;\n",
       "    }\n",
       "\n",
       "    .dataframe tbody tr th {\n",
       "        vertical-align: top;\n",
       "    }\n",
       "\n",
       "    .dataframe thead th {\n",
       "        text-align: right;\n",
       "    }\n",
       "</style>\n",
       "<table border=\"1\" class=\"dataframe\">\n",
       "  <thead>\n",
       "    <tr style=\"text-align: right;\">\n",
       "      <th></th>\n",
       "      <th>Table</th>\n",
       "      <th>Row Count</th>\n",
       "    </tr>\n",
       "  </thead>\n",
       "  <tbody>\n",
       "    <tr>\n",
       "      <th>0</th>\n",
       "      <td>Application</td>\n",
       "      <td>31</td>\n",
       "    </tr>\n",
       "    <tr>\n",
       "      <th>1</th>\n",
       "      <td>Customer</td>\n",
       "      <td>15</td>\n",
       "    </tr>\n",
       "    <tr>\n",
       "      <th>2</th>\n",
       "      <td>Department</td>\n",
       "      <td>5</td>\n",
       "    </tr>\n",
       "    <tr>\n",
       "      <th>3</th>\n",
       "      <td>Employee</td>\n",
       "      <td>25</td>\n",
       "    </tr>\n",
       "    <tr>\n",
       "      <th>4</th>\n",
       "      <td>EmployeeDepartmentHistory</td>\n",
       "      <td>34</td>\n",
       "    </tr>\n",
       "    <tr>\n",
       "      <th>5</th>\n",
       "      <td>Interview</td>\n",
       "      <td>74</td>\n",
       "    </tr>\n",
       "    <tr>\n",
       "      <th>6</th>\n",
       "      <td>InterviewResult</td>\n",
       "      <td>182</td>\n",
       "    </tr>\n",
       "    <tr>\n",
       "      <th>7</th>\n",
       "      <td>JobPosition</td>\n",
       "      <td>11</td>\n",
       "    </tr>\n",
       "    <tr>\n",
       "      <th>8</th>\n",
       "      <td>MarketingSite</td>\n",
       "      <td>4</td>\n",
       "    </tr>\n",
       "    <tr>\n",
       "      <th>9</th>\n",
       "      <td>PartType</td>\n",
       "      <td>7</td>\n",
       "    </tr>\n",
       "    <tr>\n",
       "      <th>10</th>\n",
       "      <td>Person</td>\n",
       "      <td>50</td>\n",
       "    </tr>\n",
       "    <tr>\n",
       "      <th>11</th>\n",
       "      <td>PhoneNumber</td>\n",
       "      <td>97</td>\n",
       "    </tr>\n",
       "    <tr>\n",
       "      <th>12</th>\n",
       "      <td>PotentialEmployee</td>\n",
       "      <td>5</td>\n",
       "    </tr>\n",
       "    <tr>\n",
       "      <th>13</th>\n",
       "      <td>Product</td>\n",
       "      <td>5</td>\n",
       "    </tr>\n",
       "    <tr>\n",
       "      <th>14</th>\n",
       "      <td>ProductPart</td>\n",
       "      <td>16</td>\n",
       "    </tr>\n",
       "    <tr>\n",
       "      <th>15</th>\n",
       "      <td>Project</td>\n",
       "      <td>3</td>\n",
       "    </tr>\n",
       "    <tr>\n",
       "      <th>16</th>\n",
       "      <td>ProjectStaff</td>\n",
       "      <td>9</td>\n",
       "    </tr>\n",
       "    <tr>\n",
       "      <th>17</th>\n",
       "      <td>Salary</td>\n",
       "      <td>75</td>\n",
       "    </tr>\n",
       "    <tr>\n",
       "      <th>18</th>\n",
       "      <td>Sale</td>\n",
       "      <td>15</td>\n",
       "    </tr>\n",
       "    <tr>\n",
       "      <th>19</th>\n",
       "      <td>SiteStaffing</td>\n",
       "      <td>14</td>\n",
       "    </tr>\n",
       "    <tr>\n",
       "      <th>20</th>\n",
       "      <td>Vendor</td>\n",
       "      <td>4</td>\n",
       "    </tr>\n",
       "    <tr>\n",
       "      <th>21</th>\n",
       "      <td>VendorPart</td>\n",
       "      <td>16</td>\n",
       "    </tr>\n",
       "  </tbody>\n",
       "</table>\n",
       "</div>"
      ],
      "text/plain": [
       "                        Table  Row Count\n",
       "0                 Application         31\n",
       "1                    Customer         15\n",
       "2                  Department          5\n",
       "3                    Employee         25\n",
       "4   EmployeeDepartmentHistory         34\n",
       "5                   Interview         74\n",
       "6             InterviewResult        182\n",
       "7                 JobPosition         11\n",
       "8               MarketingSite          4\n",
       "9                    PartType          7\n",
       "10                     Person         50\n",
       "11                PhoneNumber         97\n",
       "12          PotentialEmployee          5\n",
       "13                    Product          5\n",
       "14                ProductPart         16\n",
       "15                    Project          3\n",
       "16               ProjectStaff          9\n",
       "17                     Salary         75\n",
       "18                       Sale         15\n",
       "19               SiteStaffing         14\n",
       "20                     Vendor          4\n",
       "21                 VendorPart         16"
      ]
     },
     "metadata": {},
     "output_type": "display_data"
    }
   ],
   "source": [
    "import pymysql\n",
    "import pandas as pd\n",
    "\n",
    "conn = pymysql.connect(\n",
    "    host='localhost',\n",
    "    user='xyz_user',\n",
    "    password='xyz_password',\n",
    "    database='XYZ',\n",
    "    cursorclass=pymysql.cursors.DictCursor\n",
    ")\n",
    "cursor = conn.cursor()\n",
    "\n",
    "tables = [\n",
    "    \"Person\", \"PhoneNumber\", \"Employee\", \"Customer\", \"PotentialEmployee\",\n",
    "    \"Department\", \"EmployeeDepartmentHistory\", \"JobPosition\", \"Application\",\n",
    "    \"Interview\", \"InterviewResult\", \"Product\", \"PartType\", \"ProductPart\",\n",
    "    \"Vendor\", \"VendorPart\", \"MarketingSite\", \"SiteStaffing\", \"Sale\",\n",
    "    \"Salary\", \"Project\", \"ProjectStaff\"\n",
    "]\n",
    "\n",
    "row_counts = []\n",
    "for table in tables:\n",
    "    cursor.execute(f\"SELECT COUNT(*) AS count FROM {table}\")\n",
    "    result = cursor.fetchone()\n",
    "    row_counts.append({'Table': table, 'Row Count': result['count']})\n",
    "\n",
    "cursor.close()\n",
    "conn.close()\n",
    "\n",
    "df = pd.DataFrame(row_counts)\n",
    "display(df.sort_values(by=\"Table\").reset_index(drop=True))\n"
   ]
  },
  {
   "cell_type": "code",
   "execution_count": null,
   "metadata": {},
   "outputs": [],
   "source": [
    "conn.commit()\n",
    "\n",
    "cursor.close()\n",
    "conn.close()"
   ]
  },
  {
   "cell_type": "code",
   "execution_count": 5,
   "metadata": {},
   "outputs": [],
   "source": [
    "conn.close()"
   ]
  }
 ],
 "metadata": {
  "kernelspec": {
   "display_name": "base",
   "language": "python",
   "name": "python3"
  },
  "language_info": {
   "codemirror_mode": {
    "name": "ipython",
    "version": 3
   },
   "file_extension": ".py",
   "mimetype": "text/x-python",
   "name": "python",
   "nbconvert_exporter": "python",
   "pygments_lexer": "ipython3",
   "version": "3.12.7"
  }
 },
 "nbformat": 4,
 "nbformat_minor": 2
}
